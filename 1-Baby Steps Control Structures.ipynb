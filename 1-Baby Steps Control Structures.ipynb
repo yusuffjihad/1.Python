{
 "cells": [
  {
   "cell_type": "code",
   "execution_count": null,
   "metadata": {},
   "outputs": [],
   "source": [
    "print(\"Welcome to Assignment-1\")\n"
   ]
  },
  {
   "cell_type": "code",
   "execution_count": null,
   "metadata": {},
   "outputs": [],
   "source": [
    "Num1=int(input(\"Num1=\"))\n",
    "\n"
   ]
  },
  {
   "cell_type": "code",
   "execution_count": null,
   "metadata": {},
   "outputs": [],
   "source": [
    "Num2=int(input(\"Num2=\"))\n"
   ]
  },
  {
   "cell_type": "code",
   "execution_count": null,
   "metadata": {},
   "outputs": [],
   "source": [
    "Add=Num1+Num2\n",
    "print(\"Add=\",Add)\n",
    "\n"
   ]
  },
  {
   "cell_type": "code",
   "execution_count": 3,
   "metadata": {},
   "outputs": [
    {
     "name": "stdout",
     "output_type": "stream",
     "text": [
      "Under weight\n",
      "Normal Weghit\n",
      "OverWeight\n",
      "Obese\n"
     ]
    }
   ],
   "source": [
    "list=[18.5,24.9,29.9,34.9]\n",
    "\n",
    "for bmi in list:\n",
    "    \n",
    "    if bmi <= 18.5:\n",
    "        print(\"Under weight\")\n",
    "    elif bmi <= 24.9:\n",
    "        print(\"Normal Weghit\")\n",
    "    elif bmi <= 29.9:\n",
    "        print(\"OverWeight\")\n",
    "    else:\n",
    "        print(\"Obese\")\n",
    "        \n",
    "                       \n",
    "          "
   ]
  },
  {
   "cell_type": "code",
   "execution_count": null,
   "metadata": {},
   "outputs": [],
   "source": []
  },
  {
   "cell_type": "code",
   "execution_count": null,
   "metadata": {},
   "outputs": [],
   "source": []
  }
 ],
 "metadata": {
  "kernelspec": {
   "display_name": "Python 3",
   "language": "python",
   "name": "python3"
  },
  "language_info": {
   "codemirror_mode": {
    "name": "ipython",
    "version": 3
   },
   "file_extension": ".py",
   "mimetype": "text/x-python",
   "name": "python",
   "nbconvert_exporter": "python",
   "pygments_lexer": "ipython3",
   "version": "3.7.4"
  }
 },
 "nbformat": 4,
 "nbformat_minor": 2
}
