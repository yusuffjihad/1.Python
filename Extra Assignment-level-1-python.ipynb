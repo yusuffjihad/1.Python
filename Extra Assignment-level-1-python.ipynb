{
 "cells": [
  {
   "cell_type": "code",
   "execution_count": 1,
   "metadata": {},
   "outputs": [
    {
     "name": "stdout",
     "output_type": "stream",
     "text": [
      "HOPE AI\n"
     ]
    }
   ],
   "source": [
    "#print Statement\n",
    "print(\"HOPE AI\")\n"
   ]
  },
  {
   "cell_type": "code",
   "execution_count": 5,
   "metadata": {},
   "outputs": [
    {
     "name": "stdout",
     "output_type": "stream",
     "text": [
      "Enter your institute name :HOPE AI\n"
     ]
    }
   ],
   "source": [
    "# Buy input\n",
    "InstituteName=input(\"Enter your institute name :\")\n",
    "\n"
   ]
  },
  {
   "cell_type": "code",
   "execution_count": 8,
   "metadata": {},
   "outputs": [
    {
     "name": "stdout",
     "output_type": "stream",
     "text": [
      "Enter your name:Mohamed Yusuff\n",
      "Enter your age:40\n",
      "Enter your school name:Pani Malar Hr. School\n",
      "Enter your degree:B,sc Computer Science\n"
     ]
    }
   ],
   "source": [
    "#Buy inputs\n",
    "name=input(\"Enter your name:\")\n",
    "age=int(input(\"Enter your age:\"))\n",
    "school=input(\"Enter your school name:\")\n",
    "degree=input(\"Enter your degree:\")\n",
    "           "
   ]
  },
  {
   "cell_type": "code",
   "execution_count": 9,
   "metadata": {},
   "outputs": [
    {
     "name": "stdout",
     "output_type": "stream",
     "text": [
      "a=43\n",
      "b=34\n",
      "add= 77\n"
     ]
    }
   ],
   "source": [
    "#Addition\n",
    "num1=int(input(\"a=\"))\n",
    "num2=int(input(\"b=\"))\n",
    "print(\"add=\",num1+num2)\n",
    "\n"
   ]
  },
  {
   "cell_type": "code",
   "execution_count": 10,
   "metadata": {},
   "outputs": [
    {
     "name": "stdout",
     "output_type": "stream",
     "text": [
      "a=43\n",
      "b=34\n",
      "sub= 9\n"
     ]
    }
   ],
   "source": [
    "#Subtraction\n",
    "num1=int(input(\"a=\"))\n",
    "num2=int(input(\"b=\"))\n",
    "print(\"sub=\",num1-num2)\n"
   ]
  },
  {
   "cell_type": "code",
   "execution_count": 11,
   "metadata": {},
   "outputs": [
    {
     "name": "stdout",
     "output_type": "stream",
     "text": [
      "a=63\n",
      "b=97\n",
      "mul = 6111\n"
     ]
    }
   ],
   "source": [
    "#Multiplication\n",
    "num1=int(input(\"a=\"))\n",
    "num2=int(input(\"b=\"))\n",
    "print(\"mul =\",num1*num2)\n"
   ]
  },
  {
   "cell_type": "code",
   "execution_count": 13,
   "metadata": {},
   "outputs": [
    {
     "name": "stdout",
     "output_type": "stream",
     "text": [
      "a=76\n",
      "b=31\n",
      "Float dev = 2.4516129032258065\n"
     ]
    }
   ],
   "source": [
    "#Division\n",
    "num1=int(input(\"a=\"))\n",
    "num2=int(input(\"b=\"))\n",
    "print(\"Float dev =\",num1/num2)\n"
   ]
  },
  {
   "cell_type": "code",
   "execution_count": 14,
   "metadata": {},
   "outputs": [
    {
     "name": "stdout",
     "output_type": "stream",
     "text": [
      "a=76\n",
      "b=31\n",
      "Floor dev = 2\n"
     ]
    }
   ],
   "source": [
    "#Floor division\n",
    "num1=int(input(\"a=\"))\n",
    "num2=int(input(\"b=\"))\n",
    "print(\"Floor dev =\",num1//num2)"
   ]
  },
  {
   "cell_type": "code",
   "execution_count": 15,
   "metadata": {},
   "outputs": [
    {
     "name": "stdout",
     "output_type": "stream",
     "text": [
      "a=76\n",
      "b=31\n",
      "Modulo = 14\n"
     ]
    }
   ],
   "source": [
    "#Modulo\n",
    "num1=int(input(\"a=\"))\n",
    "num2=int(input(\"b=\"))\n",
    "print(\"Modulo =\",num1%num2)\n"
   ]
  },
  {
   "cell_type": "code",
   "execution_count": 16,
   "metadata": {},
   "outputs": [
    {
     "name": "stdout",
     "output_type": "stream",
     "text": [
      "a=4\n",
      "b=4\n",
      "power = 256\n"
     ]
    }
   ],
   "source": [
    "#Power\n",
    "num1=int(input(\"a=\"))\n",
    "num2=int(input(\"b=\"))\n",
    "print(\"power =\",num1**num2)"
   ]
  },
  {
   "cell_type": "code",
   "execution_count": null,
   "metadata": {},
   "outputs": [],
   "source": []
  }
 ],
 "metadata": {
  "kernelspec": {
   "display_name": "Python 3",
   "language": "python",
   "name": "python3"
  },
  "language_info": {
   "codemirror_mode": {
    "name": "ipython",
    "version": 3
   },
   "file_extension": ".py",
   "mimetype": "text/x-python",
   "name": "python",
   "nbconvert_exporter": "python",
   "pygments_lexer": "ipython3",
   "version": "3.7.4"
  }
 },
 "nbformat": 4,
 "nbformat_minor": 2
}
