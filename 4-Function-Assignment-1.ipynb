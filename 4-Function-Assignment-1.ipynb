{
 "cells": [
  {
   "cell_type": "code",
   "execution_count": null,
   "metadata": {},
   "outputs": [],
   "source": [
    " # Create function, and list out the items in the list"
   ]
  },
  {
   "cell_type": "code",
   "execution_count": 47,
   "metadata": {},
   "outputs": [],
   "source": [
    "def Subfields():\n",
    "    print(\"Sub-fields in AI are:\")\n",
    "    list =[\"Machine Learning,Neural Networks,Vision,Robotics,Speech Processing,Natural Language Processing\"]\n",
    "    for sub in list:\n",
    "        print(sub)\n",
    "        field=sub\n",
    "        return field"
   ]
  },
  {
   "cell_type": "code",
   "execution_count": 48,
   "metadata": {},
   "outputs": [
    {
     "name": "stdout",
     "output_type": "stream",
     "text": [
      "Sub-fields in AI are:\n",
      "Machine Learning,Neural Networks,Vision,Robotics,Speech Processing,Natural Language Processing\n"
     ]
    },
    {
     "data": {
      "text/plain": [
       "'Machine Learning,Neural Networks,Vision,Robotics,Speech Processing,Natural Language Processing'"
      ]
     },
     "execution_count": 48,
     "metadata": {},
     "output_type": "execute_result"
    }
   ],
   "source": [
    "Subfields()"
   ]
  },
  {
   "cell_type": "code",
   "execution_count": null,
   "metadata": {},
   "outputs": [],
   "source": [
    "# Create a function that checks whether the given number is Odd or Even"
   ]
  },
  {
   "cell_type": "code",
   "execution_count": 54,
   "metadata": {},
   "outputs": [],
   "source": [
    "def OddEven():\n",
    "    num=int(input(\"Enter a number:\"))\n",
    "    if((num%2==0)):\n",
    "        print(num,\"is Even number\")\n",
    "    else:\n",
    "        print(num,\"is odd number\")\n",
    "        "
   ]
  },
  {
   "cell_type": "code",
   "execution_count": 55,
   "metadata": {},
   "outputs": [
    {
     "name": "stdout",
     "output_type": "stream",
     "text": [
      "Enter a number:52452\n",
      "52452 is Even number\n"
     ]
    }
   ],
   "source": [
    "OddEven()"
   ]
  },
  {
   "cell_type": "code",
   "execution_count": null,
   "metadata": {},
   "outputs": [],
   "source": [
    "# Create a function that tells elegibility of marriage for male and female according to their\n",
    " age limit like 21 for male and 18 for female\n"
   ]
  },
  {
   "cell_type": "code",
   "execution_count": 18,
   "metadata": {},
   "outputs": [],
   "source": [
    "def Elegible():\n",
    "    gender=input(\"Your Gender:\")\n",
    "    age=int(input(\"age:\"))\n",
    "    if(gender==\"Male\"):\n",
    "        if(age>=21):\n",
    "            print(\"Eligible\")\n",
    "        else:  \n",
    "            print(\"Not Eligible\")\n",
    "            if(gender==\"Female\"):   \n",
    "                if(age>=18):\n",
    "                      print(\"Eligible\")\n",
    "    else:\n",
    "        print(\"Not Eligible\")\n",
    "        "
   ]
  },
  {
   "cell_type": "code",
   "execution_count": 19,
   "metadata": {},
   "outputs": [
    {
     "name": "stdout",
     "output_type": "stream",
     "text": [
      "Your Gender:Male\n",
      "age:20\n",
      "Not Eligible\n"
     ]
    }
   ],
   "source": [
    "Elegible()\n"
   ]
  },
  {
   "cell_type": "code",
   "execution_count": null,
   "metadata": {},
   "outputs": [],
   "source": [
    "# calculate the percentage of your 10th mark\n"
   ]
  },
  {
   "cell_type": "code",
   "execution_count": 36,
   "metadata": {},
   "outputs": [],
   "source": [
    "def percentage():\n",
    "    sub1=int(input(\"Subject1=\"))\n",
    "    sub2=int(input(\"Subject2=\"))\n",
    "    sub3=int(input(\"Subject3=\"))\n",
    "    sub4=int(input(\"Subject4=\"))\n",
    "    sub5=int(input(\"Subject5=\"))\n",
    "    total=sub1+sub2+sub3+sub4+sub5\n",
    "    print(\"total=\", total)\n",
    "    percent=(total/500)*100\n",
    "    print(\"percentage:\",percent)"
   ]
  },
  {
   "cell_type": "code",
   "execution_count": 38,
   "metadata": {},
   "outputs": [
    {
     "name": "stdout",
     "output_type": "stream",
     "text": [
      "Subject1=98\n",
      "Subject2=87\n",
      "Subject3=95\n",
      "Subject4=95\n",
      "Subject5=93\n",
      "total= 468\n",
      "percentage: 93.60000000000001\n"
     ]
    }
   ],
   "source": [
    "percentage()"
   ]
  },
  {
   "cell_type": "code",
   "execution_count": null,
   "metadata": {},
   "outputs": [],
   "source": [
    "#print area and perimeter of triangle using functions\n"
   ]
  },
  {
   "cell_type": "code",
   "execution_count": 45,
   "metadata": {},
   "outputs": [],
   "source": [
    "def triangle():\n",
    "    height=int(input(\"Height:\"))\n",
    "    breadth=int(input(\"Breadth:\"))\n",
    "    print(\"Area formula:,(height*breadth)/2\")\n",
    "    print(\"Area of Triangle:\",(height*breadth)/2)\n",
    "    height1=int(input(\"Height1:\"))\n",
    "    height2=int(input(\"Height2:\"))\n",
    "    breadth1=int(input(\"Breadth:\"))\n",
    "    Perimeterformula=height1+height2+breadth1\n",
    "    print(\"Perimeter formula:,height1+height2+breadth1\")\n",
    "    print(\"Perimeter of Triangle:\",height1+height2+breadth1)\n",
    "    "
   ]
  },
  {
   "cell_type": "code",
   "execution_count": 46,
   "metadata": {},
   "outputs": [
    {
     "name": "stdout",
     "output_type": "stream",
     "text": [
      "Height:32\n",
      "Breadth:34\n",
      "Area formula:,(height*breadth)/2\n",
      "Area of Triangle: 544.0\n",
      "Height1:2\n",
      "Height2:4\n",
      "Breadth:4\n",
      "Perimeter formula:,height1+height2+breadth1\n",
      "Perimeter of Triangle: 10\n"
     ]
    }
   ],
   "source": [
    "triangle()"
   ]
  },
  {
   "cell_type": "code",
   "execution_count": null,
   "metadata": {},
   "outputs": [],
   "source": []
  }
 ],
 "metadata": {
  "kernelspec": {
   "display_name": "Python 3",
   "language": "python",
   "name": "python3"
  },
  "language_info": {
   "codemirror_mode": {
    "name": "ipython",
    "version": 3
   },
   "file_extension": ".py",
   "mimetype": "text/x-python",
   "name": "python",
   "nbconvert_exporter": "python",
   "pygments_lexer": "ipython3",
   "version": "3.7.4"
  }
 },
 "nbformat": 4,
 "nbformat_minor": 2
}
